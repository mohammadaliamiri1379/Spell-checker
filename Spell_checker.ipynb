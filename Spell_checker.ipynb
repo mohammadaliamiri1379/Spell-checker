{
  "nbformat": 4,
  "nbformat_minor": 0,
  "metadata": {
    "colab": {
      "name": "Spell_checker.ipynb",
      "provenance": []
    },
    "kernelspec": {
      "name": "python3",
      "display_name": "Python 3"
    },
    "language_info": {
      "name": "python"
    }
  },
  "cells": [
    {
      "cell_type": "markdown",
      "metadata": {
        "id": "IOhmd5gfggO-"
      },
      "source": [
        "this code has been written for desire dictionary and Persian words.\n",
        ">\n",
        "first of all, you need to input your text. the input of this code needs to be char.\n",
        "we use Parsivar spell checker for this code. the reason for the usage of this repository is that to detect your default text wrong spelling."
      ]
    },
    {
      "cell_type": "markdown",
      "metadata": {
        "id": "Wr_7bSiHgfDD"
      },
      "source": [
        "you can use this code by this steps\n",
        ">\n",
        "1- input your text in input_datas().\n",
        ">\n",
        "2- use spell_checker() and put your sentences to get correct dictation\n"
      ]
    },
    {
      "cell_type": "code",
      "metadata": {
        "colab": {
          "base_uri": "https://localhost:8080/"
        },
        "id": "CgttdLOznHyY",
        "outputId": "e1e0a462-7721-4cb7-b6b4-758f366b3c8b"
      },
      "source": [
        "!pip install parsivar\n",
        "!wget https://www.dropbox.com/s/tlyvnzv1ha9y1kl/spell.zip\n",
        "!pip install pyspellchecker\n",
        "!mkdir /usr/local/lib/python3.7/dist-packages/parsivar/resource/spell \n",
        "!unzip spell.zip -d /usr/local/lib/python3.7/dist-packages/parsivar/resource/spell\n",
        "\n",
        "from parsivar import SpellCheck\n",
        "myspell_checker = SpellCheck()"
      ],
      "execution_count": 19,
      "outputs": [
        {
          "output_type": "stream",
          "name": "stdout",
          "text": [
            "Collecting parsivar\n",
            "  Downloading parsivar-0.2.3.tar.gz (36.2 MB)\n",
            "\u001b[K     |████████████████████████████████| 36.2 MB 70 kB/s \n",
            "\u001b[?25hCollecting nltk==3.4.5\n",
            "  Downloading nltk-3.4.5.zip (1.5 MB)\n",
            "\u001b[K     |████████████████████████████████| 1.5 MB 46.3 MB/s \n",
            "\u001b[?25hRequirement already satisfied: six in /usr/local/lib/python3.7/dist-packages (from nltk==3.4.5->parsivar) (1.15.0)\n",
            "Building wheels for collected packages: parsivar, nltk\n",
            "  Building wheel for parsivar (setup.py) ... \u001b[?25l\u001b[?25hdone\n",
            "  Created wheel for parsivar: filename=parsivar-0.2.3-py3-none-any.whl size=36492971 sha256=cefb2a0a9f48c78d8ae668647c4a43f8c4b4523093ca8ad3e02b4ed8208baeab\n",
            "  Stored in directory: /root/.cache/pip/wheels/ae/67/7a/49cbf08f64d3f76a26eceaf0e481a40e233f05d4356875cbed\n",
            "  Building wheel for nltk (setup.py) ... \u001b[?25l\u001b[?25hdone\n",
            "  Created wheel for nltk: filename=nltk-3.4.5-py3-none-any.whl size=1449921 sha256=0c5d3c833885b02d742692c5a42a882184c92b6dfc3bc8e852401ce08b24713d\n",
            "  Stored in directory: /root/.cache/pip/wheels/48/8b/7f/473521e0c731c6566d631b281f323842bbda9bd819eb9a3ead\n",
            "Successfully built parsivar nltk\n",
            "Installing collected packages: nltk, parsivar\n",
            "  Attempting uninstall: nltk\n",
            "    Found existing installation: nltk 3.2.5\n",
            "    Uninstalling nltk-3.2.5:\n",
            "      Successfully uninstalled nltk-3.2.5\n",
            "Successfully installed nltk-3.4.5 parsivar-0.2.3\n",
            "--2021-11-21 17:50:35--  https://www.dropbox.com/s/tlyvnzv1ha9y1kl/spell.zip\n",
            "Resolving www.dropbox.com (www.dropbox.com)... 162.125.65.18, 2620:100:6027:18::a27d:4812\n",
            "Connecting to www.dropbox.com (www.dropbox.com)|162.125.65.18|:443... connected.\n",
            "HTTP request sent, awaiting response... 301 Moved Permanently\n",
            "Location: /s/raw/tlyvnzv1ha9y1kl/spell.zip [following]\n",
            "--2021-11-21 17:50:35--  https://www.dropbox.com/s/raw/tlyvnzv1ha9y1kl/spell.zip\n",
            "Reusing existing connection to www.dropbox.com:443.\n",
            "HTTP request sent, awaiting response... 302 Found\n",
            "Location: https://uc1ed98d9b2538729bed69e99715.dl.dropboxusercontent.com/cd/0/inline/BaYZnC7dkVsz1oL4jy-KDd3etjvjDYgPBE-vet7j6DHh5tv-oXjWs0-kfi-gKsdHc-4UDOIH-kjG09PIlST783_Gt3dQ-jxxLAvrN4UctXWiGNEPS4OYcwKHjgxLzwRHMyERws_AMU1mOXCkB7IPL63W/file# [following]\n",
            "--2021-11-21 17:50:36--  https://uc1ed98d9b2538729bed69e99715.dl.dropboxusercontent.com/cd/0/inline/BaYZnC7dkVsz1oL4jy-KDd3etjvjDYgPBE-vet7j6DHh5tv-oXjWs0-kfi-gKsdHc-4UDOIH-kjG09PIlST783_Gt3dQ-jxxLAvrN4UctXWiGNEPS4OYcwKHjgxLzwRHMyERws_AMU1mOXCkB7IPL63W/file\n",
            "Resolving uc1ed98d9b2538729bed69e99715.dl.dropboxusercontent.com (uc1ed98d9b2538729bed69e99715.dl.dropboxusercontent.com)... 162.125.65.15, 2620:100:6027:15::a27d:480f\n",
            "Connecting to uc1ed98d9b2538729bed69e99715.dl.dropboxusercontent.com (uc1ed98d9b2538729bed69e99715.dl.dropboxusercontent.com)|162.125.65.15|:443... connected.\n",
            "HTTP request sent, awaiting response... 302 Found\n",
            "Location: /cd/0/inline2/BaaEbR7p9f8YI6163lgl4uqm43ilDpHXC0szFZlhKIWviNyU9WUGZYPbvuGfPXPPyJn0zTVvpjbbolMcwaJT6tjOK0gvT0xUbpouPJ3WMFqEA6Yok9uLN5LNxtx90OFAwQkG2s0CXYri1FjpV3G1m7uG4WvU70DhWc-hm_jfLUmmWgLB39XQFszFW9gzQrdQdbVlmrc1voj6w2qckIsAEgrWbLIwKxSMtPIIaf0QgSeQ5farxqcR6rMpl_h7F42ATpr7ZXgRqcb25tki5fDHp2wzE3U4E8fzR_U2Otf6HDnyc9S8V54Q5GCt2MRpCXqkwHr6LVkNMtDrmZzVzqMubFu-WUX5XIHGjiesooy6p21ZvvUUsg8b50cKCh9oPxWYa9Y/file [following]\n",
            "--2021-11-21 17:50:36--  https://uc1ed98d9b2538729bed69e99715.dl.dropboxusercontent.com/cd/0/inline2/BaaEbR7p9f8YI6163lgl4uqm43ilDpHXC0szFZlhKIWviNyU9WUGZYPbvuGfPXPPyJn0zTVvpjbbolMcwaJT6tjOK0gvT0xUbpouPJ3WMFqEA6Yok9uLN5LNxtx90OFAwQkG2s0CXYri1FjpV3G1m7uG4WvU70DhWc-hm_jfLUmmWgLB39XQFszFW9gzQrdQdbVlmrc1voj6w2qckIsAEgrWbLIwKxSMtPIIaf0QgSeQ5farxqcR6rMpl_h7F42ATpr7ZXgRqcb25tki5fDHp2wzE3U4E8fzR_U2Otf6HDnyc9S8V54Q5GCt2MRpCXqkwHr6LVkNMtDrmZzVzqMubFu-WUX5XIHGjiesooy6p21ZvvUUsg8b50cKCh9oPxWYa9Y/file\n",
            "Reusing existing connection to uc1ed98d9b2538729bed69e99715.dl.dropboxusercontent.com:443.\n",
            "HTTP request sent, awaiting response... 200 OK\n",
            "Length: 70129644 (67M) [application/zip]\n",
            "Saving to: ‘spell.zip’\n",
            "\n",
            "spell.zip           100%[===================>]  66.88M  15.5MB/s    in 4.5s    \n",
            "\n",
            "2021-11-21 17:50:41 (14.9 MB/s) - ‘spell.zip’ saved [70129644/70129644]\n",
            "\n",
            "Collecting pyspellchecker\n",
            "  Downloading pyspellchecker-0.6.2-py3-none-any.whl (2.7 MB)\n",
            "\u001b[K     |████████████████████████████████| 2.7 MB 13.4 MB/s \n",
            "\u001b[?25hInstalling collected packages: pyspellchecker\n",
            "Successfully installed pyspellchecker-0.6.2\n",
            "Archive:  spell.zip\n",
            "  inflating: /usr/local/lib/python3.7/dist-packages/parsivar/resource/spell/mybigram_lm.pckl  \n",
            "  inflating: /usr/local/lib/python3.7/dist-packages/parsivar/resource/spell/onegram.pckl  \n"
          ]
        }
      ]
    },
    {
      "cell_type": "code",
      "metadata": {
        "id": "c43xPejOjpNi"
      },
      "source": [
        "\"\"\"\n",
        "# correction function used for correct bad query serches\n",
        "#ab c   d --> ab c d\n",
        "#si9 تن9 --> si 9 9 تن\n",
        "#and delete Effectless words in invalid words\n",
        "\"\"\"\n",
        "invalid_words = [\"\", \"\",' ' ,\"\",\"/\" , \"\\\\\" , \"ا\",\"ض\",\"ص\",\"ث\",\"ق\",\"ف\",\"غ\",\"ع\",\"ه\",\"خ\",\"ح\",\"ج\",\"چ\",\"پ\",\"ش\",\"س\",\"ی\",\"ب\",\"ل\",\"ت\",\"ن\",\"م\",\"ک\",\"گ\",\";\",\"'\" , \"ظ\",\"ط\",\"ز\",\"ر\",\"ذ\",\"د\",\"ئ\",\"و\",\".\"]\n",
        "invalid_words = set(invalid_words)\n",
        "invalid_words = list(invalid_words)\n",
        "\n",
        "def split(word):\n",
        "    return [char for char in word]\n",
        "def correction (text):\n",
        "  \"\"\"\n",
        "  correct some of your type mistakes\n",
        "\n",
        "  \"\"\"\n",
        "  text = text.split(\" \")\n",
        "  invalid_words_lenght = len(invalid_words)\n",
        "  c_text = []\n",
        "  k = 0\n",
        "  for j in text :\n",
        "    k = 0\n",
        "    for i in range(invalid_words_lenght) :\n",
        "      if invalid_words[i] == j or j== '' :\n",
        "        k=1\n",
        "        pass\n",
        "        \n",
        "      elif i == invalid_words_lenght-1 and k==0:\n",
        "        \n",
        "        c_text.append(j)\n",
        "        \n",
        "  text = \" \".join(c_text)\n",
        " \n",
        "  \n",
        "  text = split(text) \n",
        "  lenght_text = len(text)\n",
        "  for i in range(lenght_text):\n",
        "    if i == lenght_text-1 :\n",
        "      break\n",
        "    if text[i] in \"aqzwsxedcrfvtgbyhnujmikolp1234567890\" and text[i+1] in \"ضشظصسطثیزقبرفلذغادعتئهنخمحکجچپگکو\" :\n",
        "      text.insert( i+1 , \" \")\n",
        "    if text[i] in \"ضشظصسطثیزقبرفلذغادعتئهنخمحکجچپگکو1234567890\" and text[i+1] in \"aqzwsxedcrfvtgbyhnujmikolp\" :\n",
        "      text.insert( i+1 , \" \")\n",
        "  text =\"\".join(text)\n",
        "  return text"
      ],
      "execution_count": 2,
      "outputs": []
    },
    {
      "cell_type": "code",
      "metadata": {
        "id": "XyX9V75fl7QJ"
      },
      "source": [
        "dic = {'ا': [],\n",
        "       'ب': [],\n",
        "       'پ': [],\n",
        "       'ت': [],\n",
        "       'ث': [],\n",
        "       'ج': [],\n",
        "       'چ': [],\n",
        "       'ح': [],\n",
        "       'خ': [],\n",
        "       'د': [],\n",
        "       'ذ': [],\n",
        "       'ر': [],\n",
        "       'ز': [],\n",
        "       'ژ': [],\n",
        "       'س': [],\n",
        "       'ش': [],\n",
        "       'ص': [],\n",
        "       'ض': [],\n",
        "       'ط': [],\n",
        "       'ظ': [],\n",
        "       'ع': [], \n",
        "       'غ': [],\n",
        "       'ف': [],\n",
        "       'ق': [],\n",
        "       'ک': [],\n",
        "       'گ': [],\n",
        "       'ل': [],\n",
        "       'م': [],\n",
        "       'ن': [],\n",
        "       'و': [],\n",
        "       'ه': [],\n",
        "       'ی': [],\n",
        "       'آ' : [],\n",
        "       'a': [],\n",
        "       'b' :[] ,\n",
        "       'c': [],\n",
        "       'd': [],\n",
        "       'e': [],\n",
        "       'f': [],\n",
        "       'g': [],\n",
        "       'h': [],\n",
        "       'i': [],\n",
        "       'j': [],\n",
        "       'k': [],\n",
        "       'l': [],\n",
        "       'm': [],\n",
        "       'n': [],\n",
        "       'o': [],\n",
        "       'p': [],\n",
        "       'q': [],\n",
        "       'r': [],\n",
        "       's': [],\n",
        "       't': [],\n",
        "       'u': [],\n",
        "       'v': [],\n",
        "       'w': [], \n",
        "       'x': [],\n",
        "       'y': [],\n",
        "       'z': [],\n",
        "       '1': [],\n",
        "       '2': [],\n",
        "       '3': [],\n",
        "       '4': [],\n",
        "       '5': [],\n",
        "       '6': [],\n",
        "       '7': [],\n",
        "       '8': [],\n",
        "       '9': [],\n",
        "       '0':[],\n",
        "       '.':[],\n",
        "       'else':[]}"
      ],
      "execution_count": 4,
      "outputs": []
    },
    {
      "cell_type": "code",
      "metadata": {
        "id": "d8RIpcSSjVCd"
      },
      "source": [
        "def input_datas(text) :\n",
        "\n",
        "    if type(text)!= str:\n",
        "      print('the type of your input is not correct')\n",
        "      exit()\n",
        "    \n",
        "    text = correction(text)\n",
        "    tex_list = text.split(\" \")\n",
        "    for i in (tex_list):\n",
        "      for j in list(dic.keys()):\n",
        "        if (i[0] == j):\n",
        "          dic[j].append(i)\n",
        "          break\n",
        "        if j == 'else':\n",
        "          dic['else'].append(i)\n",
        "    return dic\n"
      ],
      "execution_count": 12,
      "outputs": []
    },
    {
      "cell_type": "code",
      "metadata": {
        "id": "LKtY02NHmxGe"
      },
      "source": [
        "def matching (tex):\n",
        "  texted = tex.split(\" \")\n",
        "  c_text = []\n",
        "  \n",
        "  for text in texted:\n",
        "    \n",
        "    text = split(text)\n",
        "    l = len(text)\n",
        "    p = 100 / l\n",
        "    com_f = 0\n",
        "    \n",
        "    search = dic[text[0]]\n",
        "    correct_text = \"\"\n",
        "    for s in search:\n",
        "      com = 0 \n",
        "      i = -1\n",
        "      for j in range(len(s)):\n",
        "       i += 1\n",
        "       if i == l :\n",
        "          break\n",
        "       if text[i] == s[j] :\n",
        "         com+=p\n",
        "      # if l == len(s):\n",
        "      #   com+=5\n",
        "      if com >= 99 :\n",
        "        correct_text=s\n",
        "        \n",
        "        break\n",
        "      if com > com_f and com >=45 :               # 50 or 45 its diffrent answers\n",
        "       com_f = com\n",
        "       correct_text = s\n",
        "       \n",
        "    c_text.append(correct_text)   \n",
        "      \n",
        "  c_text = \" \".join(c_text) \n",
        "  return c_text"
      ],
      "execution_count": 16,
      "outputs": []
    },
    {
      "cell_type": "code",
      "metadata": {
        "id": "c6sfs71gnX2y"
      },
      "source": [
        "def spell_checker (text):\n",
        "  j=0\n",
        "  text = str(text)\n",
        "  text = correction(text)\n",
        "  text = text.split(\" \")\n",
        "  text2 = []\n",
        "  \n",
        "  for i in text:\n",
        "    #d = myspell_checker.spell_corrector(i)\n",
        "    #if i!= d :\n",
        "    d = matching(i )  \n",
        "    if d!=i :\n",
        "      d = myspell_checker.spell_corrector(i)\n",
        "      d = matching(d )\n",
        "      text2.append(d)  \n",
        "    else:\n",
        "      text2.append(d)\n",
        "  text2 = \" \".join(text2)\n",
        "\n",
        "  return text2"
      ],
      "execution_count": 22,
      "outputs": []
    },
    {
      "cell_type": "code",
      "metadata": {
        "id": "qdUKO4DTnmCt"
      },
      "source": [
        ""
      ],
      "execution_count": null,
      "outputs": []
    }
  ]
}